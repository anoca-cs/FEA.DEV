{
 "cells": [
  {
   "cell_type": "code",
   "execution_count": 2,
   "id": "b4b041cb",
   "metadata": {},
   "outputs": [
    {
     "name": "stdout",
     "output_type": "stream",
     "text": [
      "                      topic exercises  generation   teacher  generation\n",
      "class I     logic/variables        ka           5     alice           3\n",
      "class II         conditions        ka           5     kevyn           3\n",
      "class III             loops       max           5     thais           3\n",
      "class IV          functions      alan           5      eddy           2\n",
      "class V               numpy     anoca           5     julio           4\n",
      "class VI           pandas 1    felipe           5    thomas           2\n",
      "class VII          pandas 2   gustavo           4  laisinha           2\n",
      "class XIII       matplotlib     julio           4   gustavo           4\n"
     ]
    }
   ],
   "source": [
    "import numpy as np\n",
    "import pandas as pd\n",
    "import random\n",
    "\n",
    "# Arrays que serão utilizadas no df\n",
    "topic = np.array(['logic/variables', 'conditions', 'loops', 'functions', 'numpy', 'pandas 1', 'pandas 2', 'matplotlib'])\n",
    "exercises = np.array(['ka', 'ka', 'max', 'alan', 'anoca', 'felipe', 'gustavo', 'julio'])\n",
    "exercises_generation = np.array([5, 5, 5, 5, 5, 5, 4, 4])\n",
    "teacher = np.array(['alice', 'thomas', 'thais', 'eddy', 'julio', 'kevyn', 'laisinha', 'gustavo'])\n",
    "teacher_generation = np.array([3, 2, 3, 2, 4, 3, 2, 4])\n",
    "index_class = np.array(['class I', 'class II', 'class III', 'class IV', 'class V', 'class VI', 'class VII', 'class XIII'])\n",
    "\n",
    "# As pessoas da array teacher e teacher_generation precisam ser escolhidas aleatoriamente\n",
    "i = random.sample(range(8), 8)\n",
    "random_teacher = teacher[i]\n",
    "random_teacher_generation = teacher_generation[i]\n",
    "\n",
    "# Criar o df\n",
    "df = pd.DataFrame((zip(topic, exercises, exercises_generation, random_teacher, random_teacher_generation)), \n",
    "                  columns = ['topic', 'exercises', 'generation', 'teacher', 'generation'], \n",
    "                  index = [index_class])\n",
    "print(df)"
   ]
  }
 ],
 "metadata": {
  "kernelspec": {
   "display_name": "Python 3 (ipykernel)",
   "language": "python",
   "name": "python3"
  },
  "language_info": {
   "codemirror_mode": {
    "name": "ipython",
    "version": 3
   },
   "file_extension": ".py",
   "mimetype": "text/x-python",
   "name": "python",
   "nbconvert_exporter": "python",
   "pygments_lexer": "ipython3",
   "version": "3.9.7"
  }
 },
 "nbformat": 4,
 "nbformat_minor": 5
}
