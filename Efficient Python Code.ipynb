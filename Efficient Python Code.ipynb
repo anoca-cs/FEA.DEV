{
 "cells": [
  {
   "cell_type": "markdown",
   "id": "b86a3849",
   "metadata": {},
   "source": [
    "Utilizar dois códigos antigos dos meus colegas e torná-los eficientes."
   ]
  },
  {
   "cell_type": "markdown",
   "id": "84c56c88",
   "metadata": {},
   "source": [
    "## **Alissa (Case Básico)**"
   ]
  },
  {
   "cell_type": "code",
   "execution_count": 2,
   "id": "140d0a0b",
   "metadata": {},
   "outputs": [
    {
     "name": "stdout",
     "output_type": "stream",
     "text": [
      "\u001b[1mO preço de uma ação FDEV3 será R$90.94\u001b[0m\n"
     ]
    }
   ],
   "source": [
    "# Criando as variáveis\n",
    "ano1 = 96000\n",
    "ano2 = 238000\n",
    "ano3 = 187000\n",
    "ano4 = 150000\n",
    "ano5 = 4500\n",
    "custo = 0.1175+1 #custo de oportunidade de 11,75% + 1\n",
    "acoes = 5600\n",
    "\n",
    "# CALCULANDO O VALOR PRESENTE DO FLUXO DE CAIXA\n",
    "# fórmula do fluxo de caixa descontado\n",
    "# ** = potenciação\n",
    "valor1= ano1/(custo)\n",
    "valor2= ano2/(custo**2)\n",
    "valor3= ano3/(custo**3)\n",
    "valor4= ano4/(custo**4)\n",
    "valor5= ano5/(custo**5)\n",
    "\n",
    "valor = valor1+valor2+valor3+valor4+valor5\n",
    "\n",
    "#CALCULANDO O PREÇO DA AÇÃO\n",
    "preço = valor/acoes\n",
    "\n",
    "#FORMATANDO TEXTO\n",
    "# {:.2f} pois são duas casas decimais\n",
    "# colocando o texto em negrito\n",
    "txt = 'O preço de uma ação FDEV3 será R${:.2f}'\n",
    "class style:\n",
    "    BOLD = '\\033[1m'\n",
    "    END = '\\033[0m'\n",
    "\n",
    "#RESPOSTA\n",
    "print(style.BOLD+txt.format(preço)+style.END)"
   ]
  },
  {
   "cell_type": "code",
   "execution_count": 47,
   "id": "2930ff17",
   "metadata": {},
   "outputs": [
    {
     "name": "stdout",
     "output_type": "stream",
     "text": [
      "O preço da ação da FDEV3 será de \u001b[1m90.94\n"
     ]
    }
   ],
   "source": [
    "# Minha resolução\n",
    "\n",
    "import numpy as np\n",
    "\n",
    "anos = np.array([96000, 238000, 187000, 150000, 4500])\n",
    "custo = np.array([1.1175 ** i for i in range(1,6)])\n",
    "preco_acao = round(((anos/custo).sum()/5600),2)\n",
    "\n",
    "bold='\\33[1m'\n",
    "print('O preço da ação da FDEV3 será de '+bold+'%s' %preco_acao)"
   ]
  },
  {
   "cell_type": "markdown",
   "id": "96705ded",
   "metadata": {},
   "source": [
    "## **Lucas Zupolini (Case Básico)**"
   ]
  },
  {
   "cell_type": "code",
   "execution_count": 35,
   "id": "db0e4ef3",
   "metadata": {},
   "outputs": [
    {
     "name": "stdout",
     "output_type": "stream",
     "text": [
      "O menor tempo é de 691.5 s. Corra até o bandejão Qúimica, antes que a fila fique impossível\n"
     ]
    }
   ],
   "source": [
    "bandejao = [\"Central\", \"Qúimica\", \"Física\"]\n",
    "\n",
    "#Distâncias até cada bandejão, fornecidas no item a (em metros)#\n",
    "\n",
    "d_central = 1100\n",
    "d_quimica = 850\n",
    "d_fisica = 950\n",
    "\n",
    "#Taxa de entrada de pessoas no refeitório por minuto#\n",
    "i = 10\n",
    "\n",
    "#Transformar a velocidade de km/h para m/s#\n",
    "v_m_sec = 4.8*1000/3600\n",
    "\n",
    "#Calcular os tempos (em minutos) necessários para Alice chegar em cada restaurante#\n",
    "\n",
    "t_ate_cen = d_central/v_m_sec\n",
    "t_ate_qui = d_quimica/v_m_sec\n",
    "t_ate_fis = d_fisica/v_m_sec\n",
    "\n",
    "\n",
    "#Tempo adicional (em minutos) para entrar em cada restaurante esperando na fila\n",
    "t_fila_c = 400/10\n",
    "t_fila_q = 540/10\n",
    "t_fila_f = 460/10\n",
    "\n",
    "#Cálculo dos tempos totais (locomoção e espera na fila) até entrar em cada restaurante#\n",
    "t_tot_cen = t_ate_cen + t_fila_c\n",
    "t_tot_qui = t_ate_qui + t_fila_q\n",
    "t_tot_fis = t_ate_fis + t_fila_f\n",
    "\n",
    "#Criei uma lista com os valores totais de cada restaurante, respeitando a ordem na lista \"bandejao\", que contém\n",
    "#os nomes de cada restaurante.\n",
    "#Isso vai me permitir buscar o valor mínimo com uma função e armazenar o índice de sua posição, que faz referência\n",
    "#à posição do bandejão na lista com seus nomes.\n",
    "\n",
    "tempos = [t_tot_cen, t_tot_qui, t_tot_fis]\n",
    "temp_sec = min(tempos)\n",
    "min_ind = tempos.index(temp_sec)\n",
    "\n",
    "print(\"O menor tempo é de \"+str(temp_sec)+\" s. Corra até o bandejão \"+bandejao[min_ind]+\", antes que a fila fique impossível\")"
   ]
  },
  {
   "cell_type": "code",
   "execution_count": 59,
   "id": "450efc38",
   "metadata": {},
   "outputs": [
    {
     "name": "stdout",
     "output_type": "stream",
     "text": [
      "O menor tempo é de 691.5 minutos. Corra até o bandejão ['Qúimica'], antes que a fila fique impossível.\n"
     ]
    }
   ],
   "source": [
    "# Minha resolução\n",
    "\n",
    "import numpy as np\n",
    "\n",
    "bandejao = np.array(['Central', 'Qúimica', 'Física'])\n",
    "distancia = np.array([1100, 850, 950])\n",
    "velocidade = 4.8*1000/3600\n",
    "tempo_chegada = distancia/velocidade\n",
    "tempo_fila = np.array([40, 54, 46])\n",
    "tempo_total = tempo_chegada + tempo_fila\n",
    "indice = np.where(tempo_total == tempo_total.min())\n",
    "\n",
    "print(f'O menor tempo é de {tempo_total.min()} minutos. Corra até o bandejão {bandejao[indice]}, antes que a fila fique impossível.')"
   ]
  }
 ],
 "metadata": {
  "kernelspec": {
   "display_name": "Python 3 (ipykernel)",
   "language": "python",
   "name": "python3"
  },
  "language_info": {
   "codemirror_mode": {
    "name": "ipython",
    "version": 3
   },
   "file_extension": ".py",
   "mimetype": "text/x-python",
   "name": "python",
   "nbconvert_exporter": "python",
   "pygments_lexer": "ipython3",
   "version": "3.9.7"
  }
 },
 "nbformat": 4,
 "nbformat_minor": 5
}
