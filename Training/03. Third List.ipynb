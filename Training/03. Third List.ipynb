{
 "cells": [
  {
   "cell_type": "markdown",
   "metadata": {
    "id": "UAEy4Agk-yiU"
   },
   "source": [
    "0. Importe as bibliotecas necessárias"
   ]
  },
  {
   "cell_type": "code",
   "execution_count": 58,
   "metadata": {
    "executionInfo": {
     "elapsed": 6,
     "status": "ok",
     "timestamp": 1630892254245,
     "user": {
      "displayName": "Douglas da Silva Cardoso",
      "photoUrl": "https://lh3.googleusercontent.com/a-/AOh14GgOrif6VblLeboQDcSTAeoxszYPRn5V1bHJm7Oe8g=s64",
      "userId": "06270621460978465746"
     },
     "user_tz": 180
    },
    "id": "Nz4DLp-b-3CY"
   },
   "outputs": [],
   "source": [
    "import pandas as pd\n",
    "import numpy as np"
   ]
  },
  {
   "cell_type": "markdown",
   "metadata": {
    "id": "VrPZY2hh6LHV"
   },
   "source": [
    "1. Importe os dados sobre os pinguins, que se encontra no link abaixo.\n",
    "\n",
    "https://raw.githubusercontent.com/mwaskom/seaborn-data/master/penguins.csv"
   ]
  },
  {
   "cell_type": "code",
   "execution_count": 59,
   "metadata": {
    "executionInfo": {
     "elapsed": 4,
     "status": "ok",
     "timestamp": 1630892256279,
     "user": {
      "displayName": "Douglas da Silva Cardoso",
      "photoUrl": "https://lh3.googleusercontent.com/a-/AOh14GgOrif6VblLeboQDcSTAeoxszYPRn5V1bHJm7Oe8g=s64",
      "userId": "06270621460978465746"
     },
     "user_tz": 180
    },
    "id": "7vouJCaL-3qk"
   },
   "outputs": [
    {
     "name": "stdout",
     "output_type": "stream",
     "text": [
      "    species     island  bill_length_mm  bill_depth_mm  flipper_length_mm  \\\n",
      "0    Adelie  Torgersen            39.1           18.7              181.0   \n",
      "1    Adelie  Torgersen            39.5           17.4              186.0   \n",
      "2    Adelie  Torgersen            40.3           18.0              195.0   \n",
      "3    Adelie  Torgersen             NaN            NaN                NaN   \n",
      "4    Adelie  Torgersen            36.7           19.3              193.0   \n",
      "..      ...        ...             ...            ...                ...   \n",
      "339  Gentoo     Biscoe             NaN            NaN                NaN   \n",
      "340  Gentoo     Biscoe            46.8           14.3              215.0   \n",
      "341  Gentoo     Biscoe            50.4           15.7              222.0   \n",
      "342  Gentoo     Biscoe            45.2           14.8              212.0   \n",
      "343  Gentoo     Biscoe            49.9           16.1              213.0   \n",
      "\n",
      "     body_mass_g     sex  \n",
      "0         3750.0    MALE  \n",
      "1         3800.0  FEMALE  \n",
      "2         3250.0  FEMALE  \n",
      "3            NaN     NaN  \n",
      "4         3450.0  FEMALE  \n",
      "..           ...     ...  \n",
      "339          NaN     NaN  \n",
      "340       4850.0  FEMALE  \n",
      "341       5750.0    MALE  \n",
      "342       5200.0  FEMALE  \n",
      "343       5400.0    MALE  \n",
      "\n",
      "[344 rows x 7 columns] <class 'pandas.core.frame.DataFrame'>\n"
     ]
    }
   ],
   "source": [
    "p = pd.read_csv('https://raw.githubusercontent.com/mwaskom/seaborn-data/master/penguins.csv')\n",
    "\n",
    "print(p, type(p))"
   ]
  },
  {
   "cell_type": "markdown",
   "metadata": {
    "id": "wKooYLwc6n4O"
   },
   "source": [
    "2. Mude os elementos da coluna `sex` (\"MALE\" e \"FEMALE\") para português (\"MASCULINO\" e \"FEMININO\") "
   ]
  },
  {
   "cell_type": "code",
   "execution_count": 60,
   "metadata": {
    "id": "QG56C7la-4g0"
   },
   "outputs": [
    {
     "name": "stdout",
     "output_type": "stream",
     "text": [
      "    species     island  bill_length_mm  bill_depth_mm  flipper_length_mm  \\\n",
      "0    Adelie  Torgersen            39.1           18.7              181.0   \n",
      "1    Adelie  Torgersen            39.5           17.4              186.0   \n",
      "2    Adelie  Torgersen            40.3           18.0              195.0   \n",
      "3    Adelie  Torgersen             NaN            NaN                NaN   \n",
      "4    Adelie  Torgersen            36.7           19.3              193.0   \n",
      "..      ...        ...             ...            ...                ...   \n",
      "339  Gentoo     Biscoe             NaN            NaN                NaN   \n",
      "340  Gentoo     Biscoe            46.8           14.3              215.0   \n",
      "341  Gentoo     Biscoe            50.4           15.7              222.0   \n",
      "342  Gentoo     Biscoe            45.2           14.8              212.0   \n",
      "343  Gentoo     Biscoe            49.9           16.1              213.0   \n",
      "\n",
      "     body_mass_g        sex  \n",
      "0         3750.0  MASCULINO  \n",
      "1         3800.0   FEMININO  \n",
      "2         3250.0   FEMININO  \n",
      "3            NaN        NaN  \n",
      "4         3450.0   FEMININO  \n",
      "..           ...        ...  \n",
      "339          NaN        NaN  \n",
      "340       4850.0   FEMININO  \n",
      "341       5750.0  MASCULINO  \n",
      "342       5200.0   FEMININO  \n",
      "343       5400.0  MASCULINO  \n",
      "\n",
      "[344 rows x 7 columns]\n"
     ]
    }
   ],
   "source": [
    "# Alterar os elementos da coluna 'sex': 'male' por 'masculino' e 'female' por 'feminino'\n",
    "p['sex'] = p['sex'].replace(['MALE', 'FEMALE'], ['MASCULINO', 'FEMININO'])\n",
    "\n",
    "print(p)"
   ]
  },
  {
   "cell_type": "markdown",
   "metadata": {
    "id": "S8goPDny7QuK"
   },
   "source": [
    "3. Crie uma coluna com o quadrado do peso chamada `quadpeso`"
   ]
  },
  {
   "cell_type": "code",
   "execution_count": 61,
   "metadata": {
    "colab": {
     "base_uri": "https://localhost:8080/",
     "height": 424
    },
    "executionInfo": {
     "elapsed": 256,
     "status": "ok",
     "timestamp": 1630892354613,
     "user": {
      "displayName": "Douglas da Silva Cardoso",
      "photoUrl": "https://lh3.googleusercontent.com/a-/AOh14GgOrif6VblLeboQDcSTAeoxszYPRn5V1bHJm7Oe8g=s64",
      "userId": "06270621460978465746"
     },
     "user_tz": 180
    },
    "id": "TSGu7qXW-426",
    "outputId": "621dc0be-0ea8-4e5f-c1bb-c865d2aea03a"
   },
   "outputs": [
    {
     "name": "stdout",
     "output_type": "stream",
     "text": [
      "    species     island  bill_length_mm  bill_depth_mm  flipper_length_mm  \\\n",
      "0    Adelie  Torgersen            39.1           18.7              181.0   \n",
      "1    Adelie  Torgersen            39.5           17.4              186.0   \n",
      "2    Adelie  Torgersen            40.3           18.0              195.0   \n",
      "3    Adelie  Torgersen             NaN            NaN                NaN   \n",
      "4    Adelie  Torgersen            36.7           19.3              193.0   \n",
      "..      ...        ...             ...            ...                ...   \n",
      "339  Gentoo     Biscoe             NaN            NaN                NaN   \n",
      "340  Gentoo     Biscoe            46.8           14.3              215.0   \n",
      "341  Gentoo     Biscoe            50.4           15.7              222.0   \n",
      "342  Gentoo     Biscoe            45.2           14.8              212.0   \n",
      "343  Gentoo     Biscoe            49.9           16.1              213.0   \n",
      "\n",
      "     body_mass_g        sex    quadpeso  \n",
      "0         3750.0  MASCULINO  14062500.0  \n",
      "1         3800.0   FEMININO  14440000.0  \n",
      "2         3250.0   FEMININO  10562500.0  \n",
      "3            NaN        NaN         NaN  \n",
      "4         3450.0   FEMININO  11902500.0  \n",
      "..           ...        ...         ...  \n",
      "339          NaN        NaN         NaN  \n",
      "340       4850.0   FEMININO  23522500.0  \n",
      "341       5750.0  MASCULINO  33062500.0  \n",
      "342       5200.0   FEMININO  27040000.0  \n",
      "343       5400.0  MASCULINO  29160000.0  \n",
      "\n",
      "[344 rows x 8 columns]\n"
     ]
    }
   ],
   "source": [
    "# Criar coluna 'quadpeso' com o quadrado do peso\n",
    "p['quadpeso'] = p['body_mass_g'] ** 2\n",
    "\n",
    "print(p)"
   ]
  },
  {
   "cell_type": "markdown",
   "metadata": {
    "id": "LNY_KQ7965IO"
   },
   "source": [
    "4. Crie uma coluna chamada `acima_da_media`, que contenha valores booleanos, `True` caso o pinguin esteja com o peso acima da média e `False` caso o pinguin esteja com o peso na média ou abaixo da média. "
   ]
  },
  {
   "cell_type": "code",
   "execution_count": 62,
   "metadata": {
    "id": "MzQ3k70v-5X1"
   },
   "outputs": [
    {
     "name": "stdout",
     "output_type": "stream",
     "text": [
      "    species     island  bill_length_mm  bill_depth_mm  flipper_length_mm  \\\n",
      "0    Adelie  Torgersen            39.1           18.7              181.0   \n",
      "1    Adelie  Torgersen            39.5           17.4              186.0   \n",
      "2    Adelie  Torgersen            40.3           18.0              195.0   \n",
      "3    Adelie  Torgersen             NaN            NaN                NaN   \n",
      "4    Adelie  Torgersen            36.7           19.3              193.0   \n",
      "..      ...        ...             ...            ...                ...   \n",
      "339  Gentoo     Biscoe             NaN            NaN                NaN   \n",
      "340  Gentoo     Biscoe            46.8           14.3              215.0   \n",
      "341  Gentoo     Biscoe            50.4           15.7              222.0   \n",
      "342  Gentoo     Biscoe            45.2           14.8              212.0   \n",
      "343  Gentoo     Biscoe            49.9           16.1              213.0   \n",
      "\n",
      "     body_mass_g        sex    quadpeso  acima_da_media  \n",
      "0         3750.0  MASCULINO  14062500.0           False  \n",
      "1         3800.0   FEMININO  14440000.0           False  \n",
      "2         3250.0   FEMININO  10562500.0           False  \n",
      "3            NaN        NaN         NaN           False  \n",
      "4         3450.0   FEMININO  11902500.0           False  \n",
      "..           ...        ...         ...             ...  \n",
      "339          NaN        NaN         NaN           False  \n",
      "340       4850.0   FEMININO  23522500.0            True  \n",
      "341       5750.0  MASCULINO  33062500.0            True  \n",
      "342       5200.0   FEMININO  27040000.0            True  \n",
      "343       5400.0  MASCULINO  29160000.0            True  \n",
      "\n",
      "[344 rows x 9 columns]\n"
     ]
    }
   ],
   "source": [
    "# Criar coluna 'acima_da_media' com valores booleanos: True quando o pinguim está acima do peso da média e False para o restante\n",
    "p['acima_da_media'] = p['body_mass_g'] > p['body_mass_g'].mean()\n",
    "\n",
    "print(p)"
   ]
  },
  {
   "cell_type": "markdown",
   "metadata": {
    "id": "CSTCkh_N649G"
   },
   "source": [
    "5. Calcule quantos pinguins, por espécie, estão com o peso acima da **média**"
   ]
  },
  {
   "cell_type": "code",
   "execution_count": 63,
   "metadata": {
    "id": "hlPcbk3y-5tK"
   },
   "outputs": [
    {
     "name": "stdout",
     "output_type": "stream",
     "text": [
      "species\n",
      "Adelie        25\n",
      "Chinstrap      7\n",
      "Gentoo       117\n",
      "Name: acima_da_media, dtype: int64\n"
     ]
    }
   ],
   "source": [
    "# Ao utilizar a coluna 'acima_da_media' basta somar True (1) e False (0) para saber a qtd de pinguins com True (acima da média)\n",
    "\n",
    "print(p.groupby('species')['acima_da_media'].sum())"
   ]
  },
  {
   "cell_type": "markdown",
   "metadata": {
    "id": "y6RPcxpN7_cT"
   },
   "source": [
    "6. Calcule a média e o desvio-padrão dos pinguins, por sexo e por ilha. Depois, jogue fora as linhas que são NaN"
   ]
  },
  {
   "cell_type": "code",
   "execution_count": 64,
   "metadata": {
    "id": "ltqpVAvn-6EM"
   },
   "outputs": [
    {
     "name": "stdout",
     "output_type": "stream",
     "text": [
      "                            mean         std\n",
      "sex       island                            \n",
      "FEMININO  Biscoe     4319.375000  659.748885\n",
      "          Dream      3446.311475  269.522574\n",
      "          Torgersen  3395.833333  259.144356\n",
      "MASCULINO Biscoe     5104.518072  714.197748\n",
      "          Dream      3987.096774  349.523737\n",
      "          Torgersen  4034.782609  372.471714\n",
      "    species     island  bill_length_mm  bill_depth_mm  flipper_length_mm  \\\n",
      "0    Adelie  Torgersen            39.1           18.7              181.0   \n",
      "1    Adelie  Torgersen            39.5           17.4              186.0   \n",
      "2    Adelie  Torgersen            40.3           18.0              195.0   \n",
      "4    Adelie  Torgersen            36.7           19.3              193.0   \n",
      "5    Adelie  Torgersen            39.3           20.6              190.0   \n",
      "..      ...        ...             ...            ...                ...   \n",
      "338  Gentoo     Biscoe            47.2           13.7              214.0   \n",
      "340  Gentoo     Biscoe            46.8           14.3              215.0   \n",
      "341  Gentoo     Biscoe            50.4           15.7              222.0   \n",
      "342  Gentoo     Biscoe            45.2           14.8              212.0   \n",
      "343  Gentoo     Biscoe            49.9           16.1              213.0   \n",
      "\n",
      "     body_mass_g        sex    quadpeso  acima_da_media  \n",
      "0         3750.0  MASCULINO  14062500.0           False  \n",
      "1         3800.0   FEMININO  14440000.0           False  \n",
      "2         3250.0   FEMININO  10562500.0           False  \n",
      "4         3450.0   FEMININO  11902500.0           False  \n",
      "5         3650.0  MASCULINO  13322500.0           False  \n",
      "..           ...        ...         ...             ...  \n",
      "338       4925.0   FEMININO  24255625.0            True  \n",
      "340       4850.0   FEMININO  23522500.0            True  \n",
      "341       5750.0  MASCULINO  33062500.0            True  \n",
      "342       5200.0   FEMININO  27040000.0            True  \n",
      "343       5400.0  MASCULINO  29160000.0            True  \n",
      "\n",
      "[333 rows x 9 columns]\n"
     ]
    }
   ],
   "source": [
    "# Média e desvio-padrão por sexo e ilha\n",
    "print(p.groupby(['sex', 'island'])['body_mass_g'].agg(['mean', 'std']))\n",
    "\n",
    "# Excluindo linhas que são NaN\n",
    "print(p.dropna())"
   ]
  },
  {
   "cell_type": "markdown",
   "metadata": {
    "id": "wlq8oM128OA4"
   },
   "source": [
    "7. Encontre os pinguins que estão acima de dois desvio-padrão do peso médio.\n",
    "\n",
    "obs: você precisará filtrar os pinguins que estejam acima de `2 * desvio_padrão + peso_médio`"
   ]
  },
  {
   "cell_type": "code",
   "execution_count": 65,
   "metadata": {
    "id": "D1v-9R_J-6Ux"
   },
   "outputs": [
    {
     "name": "stdout",
     "output_type": "stream",
     "text": [
      "    species  island  bill_length_mm  bill_depth_mm  flipper_length_mm  \\\n",
      "233  Gentoo  Biscoe            48.4           14.6              213.0   \n",
      "235  Gentoo  Biscoe            49.3           15.7              217.0   \n",
      "237  Gentoo  Biscoe            49.2           15.2              221.0   \n",
      "253  Gentoo  Biscoe            59.6           17.0              230.0   \n",
      "297  Gentoo  Biscoe            51.1           16.3              220.0   \n",
      "299  Gentoo  Biscoe            45.2           16.4              223.0   \n",
      "331  Gentoo  Biscoe            49.8           15.9              229.0   \n",
      "335  Gentoo  Biscoe            55.1           16.0              230.0   \n",
      "337  Gentoo  Biscoe            48.8           16.2              222.0   \n",
      "\n",
      "     body_mass_g        sex    quadpeso  acima_da_media  \n",
      "233       5850.0  MASCULINO  34222500.0            True  \n",
      "235       5850.0  MASCULINO  34222500.0            True  \n",
      "237       6300.0  MASCULINO  39690000.0            True  \n",
      "253       6050.0  MASCULINO  36602500.0            True  \n",
      "297       6000.0  MASCULINO  36000000.0            True  \n",
      "299       5950.0  MASCULINO  35402500.0            True  \n",
      "331       5950.0  MASCULINO  35402500.0            True  \n",
      "335       5850.0  MASCULINO  34222500.0            True  \n",
      "337       6000.0  MASCULINO  36000000.0            True  \n"
     ]
    }
   ],
   "source": [
    "# Filtrando os pinguins acima de 2 * desvio-padrão * peso_médio\n",
    "print(p[p['body_mass_g'] > 2 * p['body_mass_g'].std() + p['body_mass_g'].mean()])"
   ]
  },
  {
   "cell_type": "markdown",
   "metadata": {
    "id": "ZdfFgSCW8mGt"
   },
   "source": [
    "8. Para cada grupo de ilha e espécie, encontre o tamanho de bico mediano e a quantidade de pinguins"
   ]
  },
  {
   "cell_type": "code",
   "execution_count": 66,
   "metadata": {
    "id": "Eb0vfVUO-6lC"
   },
   "outputs": [
    {
     "name": "stdout",
     "output_type": "stream",
     "text": [
      "                     median  count\n",
      "island    species                 \n",
      "Biscoe    Adelie      38.70     44\n",
      "          Gentoo      47.30    123\n",
      "Dream     Adelie      38.55     56\n",
      "          Chinstrap   49.55     68\n",
      "Torgersen Adelie      38.90     51\n"
     ]
    }
   ],
   "source": [
    "# Encontrar tamanho do bico mediano e qtd de pinguins para cada grupo de ilha e espécie\n",
    "print(p.groupby(['island', 'species'])['bill_length_mm'].agg(['median', 'count']))"
   ]
  },
  {
   "cell_type": "markdown",
   "metadata": {
    "id": "EXzeJISX8z2u"
   },
   "source": [
    "9. Importe os CSVs abaixo para variáveis:\n",
    "\n",
    "`flights.csv`, `airports.csv`, `planes.csv` e `airlines`"
   ]
  },
  {
   "cell_type": "code",
   "execution_count": 67,
   "metadata": {
    "id": "dJxRw6OE-611"
   },
   "outputs": [],
   "source": [
    "df_flights = pd.read_csv('flights.csv')\n",
    "df_airports = pd.read_csv('airports.csv')\n",
    "df_planes = pd.read_csv('planes.csv')\n",
    "df_airlines = pd.read_csv('airlines.csv')"
   ]
  },
  {
   "cell_type": "markdown",
   "metadata": {
    "id": "xt044V4z9aL-"
   },
   "source": [
    "10. Faça um `left_join` de flights e planes. Depois, faça a média de atraso (`arr_delay`) por `manufacturer`. Tente arranjar os dados para descobrirmos quais são os que mais atrasam *na média* "
   ]
  },
  {
   "cell_type": "code",
   "execution_count": 68,
   "metadata": {
    "id": "F_utTv_3-7F4"
   },
   "outputs": [
    {
     "name": "stdout",
     "output_type": "stream",
     "text": [
      "manufacturer\n",
      "AIRBUS               0.123563\n",
      "AIRBUS INDUSTRIE    20.750000\n",
      "BOEING               1.531208\n",
      "BOMBARDIER INC      13.584352\n",
      "EMBRAER              6.169118\n",
      "Name: arr_delay, dtype: float64\n"
     ]
    }
   ],
   "source": [
    "# Left_join de flights e planes\n",
    "left_join = pd.merge(df_flights, df_planes, how = 'left')\n",
    "\n",
    "# Média de atraso (arr_delay) por manufacturer\n",
    "print(left_join.groupby('manufacturer')['arr_delay'].mean())"
   ]
  },
  {
   "cell_type": "markdown",
   "metadata": {
    "id": "LrV_KVDd-HzF"
   },
   "source": [
    "11. Com os dados juntados anteriormente, junte também o dataframe de `airlines`, de acordo com as colunas em comum. Depois, descubra a quantidade de linhas por `origin` e `airlines`"
   ]
  },
  {
   "cell_type": "code",
   "execution_count": 69,
   "metadata": {
    "id": "zHaZ_GC2-7Vd"
   },
   "outputs": [
    {
     "name": "stdout",
     "output_type": "stream",
     "text": [
      "origin  name                       \n",
      "EWR     Alaska Airlines Inc.             714\n",
      "        American Airlines Inc.          3487\n",
      "        Delta Air Lines Inc.            4342\n",
      "        Endeavor Air Inc.               1268\n",
      "        Envoy Air                       2276\n",
      "        ExpressJet Airlines Inc.       43939\n",
      "        JetBlue Airways                 6557\n",
      "        SkyWest Airlines Inc.              6\n",
      "        Southwest Airlines Co.          6188\n",
      "        US Airways Inc.                 4405\n",
      "        United Air Lines Inc.          46087\n",
      "        Virgin America                  1566\n",
      "JFK     American Airlines Inc.         13783\n",
      "        Delta Air Lines Inc.           20701\n",
      "        Endeavor Air Inc.              14651\n",
      "        Envoy Air                       7193\n",
      "        ExpressJet Airlines Inc.        1408\n",
      "        Hawaiian Airlines Inc.           342\n",
      "        JetBlue Airways                42076\n",
      "        US Airways Inc.                 2995\n",
      "        United Air Lines Inc.           4534\n",
      "        Virgin America                  3596\n",
      "LGA     AirTran Airways Corporation     3260\n",
      "        American Airlines Inc.         15459\n",
      "        Delta Air Lines Inc.           23067\n",
      "        Endeavor Air Inc.               2541\n",
      "        Envoy Air                      16928\n",
      "        ExpressJet Airlines Inc.        8826\n",
      "        Frontier Airlines Inc.           685\n",
      "        JetBlue Airways                 6002\n",
      "        Mesa Airlines Inc.               601\n",
      "        SkyWest Airlines Inc.             26\n",
      "        Southwest Airlines Co.          6087\n",
      "        US Airways Inc.                13136\n",
      "        United Air Lines Inc.           8044\n",
      "Name: flight, dtype: int64\n"
     ]
    }
   ],
   "source": [
    "# Juntar left_join com o dataframe de airlines de acordo com a coluna em comum ('carrier')\n",
    "left_join_and_airlines = pd.merge(left_join, df_airlines, on = 'carrier', how = 'left')\n",
    "\n",
    "# Qtd de linhas (coluna 'flight') por origin e airlines (coluna 'name')\n",
    "print(left_join_and_airlines.groupby(['origin', 'name'])['flight'].count())"
   ]
  },
  {
   "cell_type": "markdown",
   "metadata": {
    "id": "d7Ty7OwP-kIb"
   },
   "source": [
    "12. Fique a vontade para brincar com os dados, qualquer dúvida fale com o seu tutor. Fique à vontade de levar sua tentativa de novos arranjos e dúvidas sobre os exercícios para a monitoria."
   ]
  },
  {
   "cell_type": "code",
   "execution_count": 70,
   "metadata": {
    "id": "hkifMvvz-7p7"
   },
   "outputs": [
    {
     "name": "stdout",
     "output_type": "stream",
     "text": [
      "Series([], Name: tzone, dtype: int64)\n"
     ]
    }
   ],
   "source": [
    "# Juntei left_join_and_airlines com a airports.csv a partir da coluna em comum 'name'\n",
    "left_join_and_airlines_airports = pd.merge(left_join_and_airlines, df_airports, on = 'name', how = 'left')\n",
    "\n",
    "# Verificar quantas cidades constam na coluna 'tzone'\n",
    "print(left_join_and_airlines_airports.groupby('tzone')['tzone'].count())"
   ]
  }
 ],
 "metadata": {
  "colab": {
   "collapsed_sections": [],
   "name": "Lista_de_exercícios_Pandas_2.ipynb",
   "provenance": []
  },
  "kernelspec": {
   "display_name": "Python 3 (ipykernel)",
   "language": "python",
   "name": "python3"
  },
  "language_info": {
   "codemirror_mode": {
    "name": "ipython",
    "version": 3
   },
   "file_extension": ".py",
   "mimetype": "text/x-python",
   "name": "python",
   "nbconvert_exporter": "python",
   "pygments_lexer": "ipython3",
   "version": "3.9.7"
  }
 },
 "nbformat": 4,
 "nbformat_minor": 1
}
