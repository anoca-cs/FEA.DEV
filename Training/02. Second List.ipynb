{
 "cells": [
  {
   "cell_type": "markdown",
   "id": "19ba480c",
   "metadata": {},
   "source": [
    "# Lista de Exercícios"
   ]
  },
  {
   "cell_type": "markdown",
   "id": "dffd9d9c",
   "metadata": {},
   "source": [
    "1) Crie um array formado de números (de 0 a 10) de tamanho 5 e atribua ele a uma variável chamada \"arr1\""
   ]
  },
  {
   "cell_type": "code",
   "execution_count": 29,
   "id": "9f8eddf9",
   "metadata": {},
   "outputs": [
    {
     "name": "stdout",
     "output_type": "stream",
     "text": [
      "[ 2  6 10  4  1] (5,)\n"
     ]
    }
   ],
   "source": [
    "import numpy as np\n",
    "import random\n",
    "\n",
    "arr1 = np.array(random.sample(range(11), 5))\n",
    "print(arr1, arr1.shape) # Checking"
   ]
  },
  {
   "cell_type": "markdown",
   "id": "ac6c1fb7",
   "metadata": {},
   "source": [
    "Suponha que os elementos do \"arr1\" são suas notas em uma determinada disciplina da faculdade. Daqui em diante vamos descobrir se você será aprovado(a) ou não."
   ]
  },
  {
   "cell_type": "markdown",
   "id": "fb969d9e",
   "metadata": {},
   "source": [
    "2) Você descobriu que normalmente a professora tira a média simples das notas e que para a aprovação é necessária uma nota acima de 5. Com isso em mente, encontre a sua média e printe o resultado."
   ]
  },
  {
   "cell_type": "code",
   "execution_count": 36,
   "id": "b321b331",
   "metadata": {},
   "outputs": [
    {
     "name": "stdout",
     "output_type": "stream",
     "text": [
      "Fui reprovada com a média final simples de 5\n"
     ]
    }
   ],
   "source": [
    "if arr1.mean() > 5:\n",
    "    print('Fui aprovada com a média final simples de ' + str(round(arr1.mean())))\n",
    "else:\n",
    "    print('Fui reprovada com a média final simples de ' + str(round(arr1.mean())))"
   ]
  },
  {
   "cell_type": "markdown",
   "id": "3c5cb2bd",
   "metadata": {},
   "source": [
    "3) Após ter o resultado inicial na 2), você descobre que a professora decidiu alterar o método nesse semestre e a sua média será feita de uma forma diferente. Ela anunciou que para a aprovação é necessário que ao menos 3 das 5 notas tenham sido acima de 5 e que, dentre essas notas, ao menos uma tenha o valor maior ou igual a 7."
   ]
  },
  {
   "cell_type": "markdown",
   "id": "568114da",
   "metadata": {},
   "source": [
    "a) Retorne a quantidade de notas acima de 5"
   ]
  },
  {
   "cell_type": "code",
   "execution_count": 37,
   "id": "7ffc14f2",
   "metadata": {},
   "outputs": [
    {
     "name": "stdout",
     "output_type": "stream",
     "text": [
      "2 é a quantidade de notas acima de 5.0\n"
     ]
    }
   ],
   "source": [
    "# Create an empty list\n",
    "over_five = []\n",
    "less_than_five = []\n",
    "\n",
    "# Go through each grade in arr1 to check the ones over five\n",
    "for grade in arr1:\n",
    "    if grade > 5:\n",
    "        over_five.append(True)\n",
    "        less_than_five.append(False)\n",
    "    else:\n",
    "        over_five.append(False)\n",
    "        less_than_five.append(True)\n",
    "\n",
    "print(str(len(arr1[over_five])) + ' é a quantidade de notas acima de 5.0')"
   ]
  },
  {
   "cell_type": "markdown",
   "id": "307f91a7",
   "metadata": {},
   "source": [
    "b) Caso na a) o valor seja maior ou igual a 3, crie um novo array com esses números e descubra o resultado da aprovação"
   ]
  },
  {
   "cell_type": "code",
   "execution_count": 38,
   "id": "c5d7def2",
   "metadata": {},
   "outputs": [
    {
     "name": "stdout",
     "output_type": "stream",
     "text": [
      "Não obtive pelo menos as três notas acima de 5.0 necessárias para aprovação.\n"
     ]
    }
   ],
   "source": [
    "if len(arr1[over_five]) >= 3:\n",
    "    arr1_over_five = arr1[over_five]\n",
    "    if arr1_over_five.mean() > 5:\n",
    "        print('Fui aprovada com a média final simples de ' + str(round(arr1_over_five.mean())))\n",
    "    else:\n",
    "        print('Fui repprovada com a média final simples de ' + str(round(arr1_over_five.mean())))\n",
    "else:\n",
    "    print('Não obtive pelo menos as três notas acima de 5.0 necessárias para aprovação.')"
   ]
  },
  {
   "cell_type": "markdown",
   "id": "b7f89b59",
   "metadata": {},
   "source": [
    "c) Caso na a) o valor seja menor do que 3, crie um novo array com esses números, e descubra se você conseguirá fazer a reaval (para isso é necessário que, dentre essas notas menores do que 5, a sua média tenha sido ao menos 3)"
   ]
  },
  {
   "cell_type": "code",
   "execution_count": 39,
   "id": "ce2b1db4",
   "metadata": {},
   "outputs": [
    {
     "name": "stdout",
     "output_type": "stream",
     "text": [
      "Não posso fazer reaval pois minha média foi de 2\n"
     ]
    }
   ],
   "source": [
    "if len(arr1[over_five]) < 3:\n",
    "    arr1_less_than_five = arr1[less_than_five]\n",
    "    if arr1_less_than_five.mean() >= 3:\n",
    "        print('Posso fazer reaval pois mnha média foi de ' + str(round(arr1_less_than_five.mean())))\n",
    "    else:\n",
    "        print('Não posso fazer reaval pois minha média foi de ' + str(round(arr1_less_than_five.mean())))\n",
    "else:\n",
    "    print('Não precisei deste procedimento pois fui aprovada diretamente.')"
   ]
  },
  {
   "cell_type": "markdown",
   "id": "922f9b48",
   "metadata": {},
   "source": [
    "4) Dada a facilidade de se mexer com as notas usando Numpy você decidiu criar novos arrays com suas notas em outras matérias. Crie 2 novos arrays com as mesmas características do que o \"arr1\""
   ]
  },
  {
   "cell_type": "code",
   "execution_count": 40,
   "id": "1aa591e9",
   "metadata": {},
   "outputs": [
    {
     "name": "stdout",
     "output_type": "stream",
     "text": [
      "[ 3  4 10  0  6] [1 2 0 5 4]\n"
     ]
    }
   ],
   "source": [
    "arr2 = np.array(random.sample(range(11), 5))\n",
    "arr3 = np.array(random.sample(range(11), 5))\n",
    "\n",
    "print(arr2, arr3) # Checking"
   ]
  },
  {
   "cell_type": "markdown",
   "id": "258cbb31",
   "metadata": {},
   "source": [
    "5) a)Transforme os 3 arrays em um único array, de tamanho (3,5)"
   ]
  },
  {
   "cell_type": "code",
   "execution_count": 41,
   "id": "bd74fe1e",
   "metadata": {},
   "outputs": [
    {
     "name": "stdout",
     "output_type": "stream",
     "text": [
      "[[ 2  6 10  4  1]\n",
      " [ 3  4 10  0  6]\n",
      " [ 1  2  0  5  4]] (3, 5)\n"
     ]
    }
   ],
   "source": [
    "total_arrs = np.array([arr1, arr2, arr3])\n",
    "print(total_arrs, total_arrs.shape) # Checking"
   ]
  },
  {
   "cell_type": "markdown",
   "id": "52c7d47e",
   "metadata": {},
   "source": [
    "b) Mude o formato de a) para (5,3)"
   ]
  },
  {
   "cell_type": "code",
   "execution_count": 64,
   "id": "35b52574",
   "metadata": {},
   "outputs": [
    {
     "name": "stdout",
     "output_type": "stream",
     "text": [
      "[[ 2  6 10]\n",
      " [ 4  1  3]\n",
      " [ 4 10  0]\n",
      " [ 6  1  2]\n",
      " [ 0  5  4]] (5, 3)\n"
     ]
    }
   ],
   "source": [
    "new_total_arrs = total_arrs.reshape((5, 3))\n",
    "print(new_total_arrs, new_total_arrs.shape) # Checking"
   ]
  },
  {
   "cell_type": "markdown",
   "id": "4e7b35a8",
   "metadata": {},
   "source": [
    "6) A lista inf_anual tem os dados da inflação anual dos últimos anos (2012,2020) no Brasil (IPCA), crie um array chamado \"inflacao_br\" com os dados da lista\n"
   ]
  },
  {
   "cell_type": "code",
   "execution_count": 43,
   "id": "2fd89475",
   "metadata": {},
   "outputs": [
    {
     "name": "stdout",
     "output_type": "stream",
     "text": [
      "[ 5.84  5.91  6.41 10.67  6.29  2.95  3.75  4.31  4.52]\n"
     ]
    }
   ],
   "source": [
    "inf_anual = [5.84,5.91,6.41,10.67,6.29,2.95,3.75,4.31,4.52]\n",
    "\n",
    "inflacao_br = np.array(inf_anual)\n",
    "print(inflacao_br) # Checking"
   ]
  },
  {
   "cell_type": "markdown",
   "id": "e0c17d7f",
   "metadata": {},
   "source": [
    "7) Suponha que a meta da inflação ficou constante em 4.5 ao longo desses anos, com uma tolerância de 1.5 para mais ou para menos. Descubra em quais anos o número ficou fora dessa tolerância e retorne um array com 1 se isso é verdade, e 0 caso contrário."
   ]
  },
  {
   "cell_type": "code",
   "execution_count": 50,
   "id": "acdce620",
   "metadata": {},
   "outputs": [
    {
     "name": "stdout",
     "output_type": "stream",
     "text": [
      "[0 0 1 1 1 1 0 0 0]\n"
     ]
    }
   ],
   "source": [
    "print(np.where(np.logical_or(inflacao_br < 3, inflacao_br > 6), 1, 0))"
   ]
  },
  {
   "cell_type": "markdown",
   "id": "acb34520",
   "metadata": {},
   "source": [
    "8) Plote um gráfico que mostre a evolução anual da inflação, use os anos para o eixo x e a inflação ao eixo y. Nomeie o eixo x como anos e y IPCA, coloque uma cor laranja à reta de inflação."
   ]
  },
  {
   "cell_type": "code",
   "execution_count": 62,
   "id": "34e46b9e",
   "metadata": {},
   "outputs": [
    {
     "data": {
      "image/png": "[encoded data removed]",
      "text/plain": [
       "<Figure size 432x288 with 1 Axes>"
      ]
     },
     "metadata": {
      "needs_background": "light"
     },
     "output_type": "display_data"
    }
   ],
   "source": [
    "import matplotlib.pyplot as plt\n",
    "fig, ax = plt.subplots()\n",
    "ax.plot(range(2012, 2021), inflacao_br, color = 'orange')\n",
    "ax.set_xlabel('Anos')\n",
    "ax.set_ylabel('IPCA')\n",
    "plt.show()"
   ]
  },
  {
   "cell_type": "markdown",
   "id": "4bcd39e8",
   "metadata": {},
   "source": [
    "b) Descreva o comportamento do gráfico."
   ]
  },
  {
   "cell_type": "code",
   "execution_count": 63,
   "id": "f130deb5",
   "metadata": {},
   "outputs": [],
   "source": [
    "# Entre 2012 e 2014 o IPCA se manteve relativamente constante. \n",
    "# Em 2014 houve um crescimento atípico até o ano seguinte e depois despencou até o ano 2017. \n",
    "# Desde então tem crescido gradualmente. "
   ]
  }
 ],
 "metadata": {
  "kernelspec": {
   "display_name": "Python 3.10.4 64-bit",
   "language": "python",
   "name": "python3"
  },
  "language_info": {
   "codemirror_mode": {
    "name": "ipython",
    "version": 3
   },
   "file_extension": ".py",
   "mimetype": "text/x-python",
   "name": "python",
   "nbconvert_exporter": "python",
   "pygments_lexer": "ipython3",
   "version": "3.10.4"
  },
  "vscode": {
   "interpreter": {
    "hash": "0255b2a1a85d95e539a3d37cbfeda14c0a475ccd427586120269d64df835fd1d"
   }
  }
 },
 "nbformat": 4,
 "nbformat_minor": 5
}
